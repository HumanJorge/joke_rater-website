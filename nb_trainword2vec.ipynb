{
 "cells": [
  {
   "cell_type": "code",
   "execution_count": 1,
   "id": "23b53a45",
   "metadata": {},
   "outputs": [],
   "source": [
    "TEST_SPLIT = 0.2\n",
    "DEV_SPLIT_JOKES = 1\n",
    "PAD_LEN = 50\n",
    "\n",
    "EMBEDDING_SIZE = 50\n",
    "\n",
    "LEARNING_RATE=0.001\n",
    "EPOCHS=20\n",
    "BATCH_SIZE=32\n",
    "VAL_SPLIT=0.3\n",
    "PATIENCE = 5"
   ]
  },
  {
   "cell_type": "code",
   "execution_count": 2,
   "id": "95ddb6d9",
   "metadata": {},
   "outputs": [
    {
     "name": "stderr",
     "output_type": "stream",
     "text": [
      "2023-06-15 18:10:30.622951: I tensorflow/core/platform/cpu_feature_guard.cc:182] This TensorFlow binary is optimized to use available CPU instructions in performance-critical operations.\n",
      "To enable the following instructions: AVX2 FMA, in other operations, rebuild TensorFlow with the appropriate compiler flags.\n",
      "2023-06-15 18:10:32.918334: W tensorflow/compiler/tf2tensorrt/utils/py_utils.cc:38] TF-TRT Warning: Could not find TensorRT\n"
     ]
    }
   ],
   "source": [
    "import numpy as np\n",
    "import pandas as pd\n",
    "from gensim.models import Word2Vec\n",
    "from tensorflow.keras.preprocessing.text import text_to_word_sequence, Tokenizer\n",
    "\n",
    "import re"
   ]
  },
  {
   "cell_type": "code",
   "execution_count": 8,
   "id": "5cb1c4b4",
   "metadata": {},
   "outputs": [
    {
     "data": {
      "text/plain": [
       "True"
      ]
     },
     "execution_count": 8,
     "metadata": {},
     "output_type": "execute_result"
    }
   ],
   "source": [
    "from pathlib import Path\n",
    "data = Path.cwd().parent / 'raw_data'\n",
    "data.exists()"
   ]
  },
  {
   "cell_type": "code",
   "execution_count": 15,
   "id": "5d1f2107",
   "metadata": {},
   "outputs": [
    {
     "name": "stderr",
     "output_type": "stream",
     "text": [
      "/tmp/ipykernel_14361/4014073165.py:4: DtypeWarning: Columns (3,26) have mixed types. Specify dtype option on import or set low_memory=False.\n",
      "  df_import_raw = pd.read_csv(filename_reddit, index_col=[0])\n"
     ]
    }
   ],
   "source": [
    "filename_jokes = '../raw_data/reddit_jokes_rated.csv'\n",
    "df_import_jokes = pd.read_csv(filename_jokes)\n",
    "filename_reddit = '../raw_data/reddit/reddit_thread_comments.csv'\n",
    "df_import_raw = pd.read_csv(filename_reddit, index_col=[0])\n"
   ]
  },
  {
   "cell_type": "code",
   "execution_count": 16,
   "id": "e5f2e1c7",
   "metadata": {},
   "outputs": [],
   "source": [
    "def clean_single_sentence(sentence):\n",
    "    sentence = sentence.strip() ## remove whitespaces\n",
    "    sentence = sentence.lower() ## lowercase\n",
    "    sentence = re.sub(r'[^\\w]', ' ', sentence) ## remove special characters\n",
    "    return sentence"
   ]
  },
  {
   "cell_type": "code",
   "execution_count": 17,
   "id": "a97dbcf6",
   "metadata": {},
   "outputs": [],
   "source": [
    "df_import_raw['comment_body'] = df_import_raw['comment_body'].astype(str)\n",
    "df_import_jokes['thread_joke'] = [clean_single_sentence(joke) for joke in df_import_jokes['thread_joke']]\n",
    "df_import_raw['comment_body'] = [clean_single_sentence(joke) for joke in df_import_raw['comment_body']]"
   ]
  },
  {
   "cell_type": "code",
   "execution_count": 18,
   "id": "aa93bf67",
   "metadata": {},
   "outputs": [],
   "source": [
    "sr_sentences = pd.concat([df_import_jokes['thread_joke'], df_import_raw['comment_body']], axis = 0)\n",
    "ls_sentences = [text_to_word_sequence(_) for _ in sr_sentences]\n"
   ]
  },
  {
   "cell_type": "code",
   "execution_count": 19,
   "id": "4e2e8b31",
   "metadata": {},
   "outputs": [
    {
     "data": {
      "text/plain": [
       "16453"
      ]
     },
     "execution_count": 19,
     "metadata": {},
     "output_type": "execute_result"
    }
   ],
   "source": [
    "\n",
    "word2vec = Word2Vec(sentences=ls_sentences, vector_size=EMBEDDING_SIZE, min_count=10, window=5)\n",
    "vocab_size = len(word2vec.wv)\n",
    "vocab_size"
   ]
  },
  {
   "cell_type": "code",
   "execution_count": 21,
   "id": "8b514790",
   "metadata": {},
   "outputs": [],
   "source": [
    "import pickle\n",
    "\n",
    "with open(\"word2vec_v3\", 'wb') as file:\n",
    "    pickle.dump(word2vec, file)\n",
    "    "
   ]
  },
  {
   "cell_type": "code",
   "execution_count": 22,
   "id": "374cd4e7",
   "metadata": {},
   "outputs": [],
   "source": [
    "\n",
    "with open(\"word2vec_v3\", \"rb\") as file:\n",
    "    w2v = pickle.load(file)"
   ]
  },
  {
   "cell_type": "code",
   "execution_count": 23,
   "id": "c2eabb23",
   "metadata": {},
   "outputs": [
    {
     "data": {
      "text/plain": [
       "<gensim.models.word2vec.Word2Vec at 0x7fb5ba5fcd30>"
      ]
     },
     "execution_count": 23,
     "metadata": {},
     "output_type": "execute_result"
    }
   ],
   "source": [
    "w2v"
   ]
  },
  {
   "cell_type": "code",
   "execution_count": null,
   "id": "31827e12",
   "metadata": {},
   "outputs": [],
   "source": []
  }
 ],
 "metadata": {
  "kernelspec": {
   "display_name": "Python 3 (ipykernel)",
   "language": "python",
   "name": "python3"
  },
  "language_info": {
   "codemirror_mode": {
    "name": "ipython",
    "version": 3
   },
   "file_extension": ".py",
   "mimetype": "text/x-python",
   "name": "python",
   "nbconvert_exporter": "python",
   "pygments_lexer": "ipython3",
   "version": "3.10.6"
  },
  "toc": {
   "base_numbering": 1,
   "nav_menu": {},
   "number_sections": true,
   "sideBar": true,
   "skip_h1_title": false,
   "title_cell": "Table of Contents",
   "title_sidebar": "Contents",
   "toc_cell": false,
   "toc_position": {},
   "toc_section_display": true,
   "toc_window_display": false
  }
 },
 "nbformat": 4,
 "nbformat_minor": 5
}
