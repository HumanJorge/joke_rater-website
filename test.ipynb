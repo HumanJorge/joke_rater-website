{
 "cells": [
  {
   "cell_type": "code",
   "execution_count": 1,
   "metadata": {},
   "outputs": [],
   "source": [
    "# from cleaner import cleaner\n",
    "# from cleantext import clean\n",
    "\n",
    "# !pip install emoji\n",
    "# import emoji\n",
    "\n",
    "# import pickle\n",
    "# model = pickle.load(open('engagement_model.sav', 'rb'))\n",
    "import pandas as pd"
   ]
  },
  {
   "cell_type": "code",
   "execution_count": 2,
   "metadata": {},
   "outputs": [],
   "source": [
    "df = pd.read_csv(\"/home/diogo/code/HumanJorge/joke_rater_project/joke_rater-website/data/r_class_dict_diogo.csv\")\n"
   ]
  },
  {
   "cell_type": "code",
   "execution_count": 3,
   "metadata": {},
   "outputs": [
    {
     "data": {
      "text/html": [
       "<div>\n",
       "<style scoped>\n",
       "    .dataframe tbody tr th:only-of-type {\n",
       "        vertical-align: middle;\n",
       "    }\n",
       "\n",
       "    .dataframe tbody tr th {\n",
       "        vertical-align: top;\n",
       "    }\n",
       "\n",
       "    .dataframe thead th {\n",
       "        text-align: right;\n",
       "    }\n",
       "</style>\n",
       "<table border=\"1\" class=\"dataframe\">\n",
       "  <thead>\n",
       "    <tr style=\"text-align: right;\">\n",
       "      <th></th>\n",
       "      <th>thread_id</th>\n",
       "      <th>thread_joke</th>\n",
       "      <th>thread_rate</th>\n",
       "      <th>type humor</th>\n",
       "      <th>topic joke</th>\n",
       "      <th>score_raw</th>\n",
       "      <th>ratio_0_to_10</th>\n",
       "      <th>ratio_-5_to_5</th>\n",
       "      <th>ncom_raw</th>\n",
       "    </tr>\n",
       "  </thead>\n",
       "  <tbody>\n",
       "    <tr>\n",
       "      <th>0</th>\n",
       "      <td>upienl</td>\n",
       "      <td>What part of the army is for toddlers and babi...</td>\n",
       "      <td>0.43</td>\n",
       "      <td>One-liner Humor</td>\n",
       "      <td>Animals Jokes</td>\n",
       "      <td>10189.0</td>\n",
       "      <td>0.88</td>\n",
       "      <td>3.8</td>\n",
       "      <td>211.0</td>\n",
       "    </tr>\n",
       "    <tr>\n",
       "      <th>1</th>\n",
       "      <td>w1c47j</td>\n",
       "      <td>An elderly couple has fallen on hard times Aft...</td>\n",
       "      <td>0.42</td>\n",
       "      <td>Pun Humor</td>\n",
       "      <td>Relationships Jokes</td>\n",
       "      <td>11396.0</td>\n",
       "      <td>0.93</td>\n",
       "      <td>4.3</td>\n",
       "      <td>475.0</td>\n",
       "    </tr>\n",
       "    <tr>\n",
       "      <th>2</th>\n",
       "      <td>ug08cx</td>\n",
       "      <td>Smoking will kill you. Bacon will kill you. Bu...</td>\n",
       "      <td>0.56</td>\n",
       "      <td>One-liner Humor</td>\n",
       "      <td>Animals Jokes</td>\n",
       "      <td>5693.0</td>\n",
       "      <td>0.95</td>\n",
       "      <td>4.5</td>\n",
       "      <td>131.0</td>\n",
       "    </tr>\n",
       "    <tr>\n",
       "      <th>3</th>\n",
       "      <td>vld87y</td>\n",
       "      <td>A guy rubs a lamp. And the genie comes</td>\n",
       "      <td>0.31</td>\n",
       "      <td>One-liner Humor</td>\n",
       "      <td>Technology Jokes</td>\n",
       "      <td>1698.0</td>\n",
       "      <td>0.97</td>\n",
       "      <td>4.7</td>\n",
       "      <td>34.0</td>\n",
       "    </tr>\n",
       "    <tr>\n",
       "      <th>4</th>\n",
       "      <td>wvyhz3</td>\n",
       "      <td>A guy runs into a bar. He goes up to the barte...</td>\n",
       "      <td>0.71</td>\n",
       "      <td>One-liner Humor</td>\n",
       "      <td>Religious Jokes</td>\n",
       "      <td>11080.0</td>\n",
       "      <td>0.93</td>\n",
       "      <td>4.3</td>\n",
       "      <td>206.0</td>\n",
       "    </tr>\n",
       "  </tbody>\n",
       "</table>\n",
       "</div>"
      ],
      "text/plain": [
       "  thread_id                                        thread_joke  thread_rate  \\\n",
       "0    upienl  What part of the army is for toddlers and babi...         0.43   \n",
       "1    w1c47j  An elderly couple has fallen on hard times Aft...         0.42   \n",
       "2    ug08cx  Smoking will kill you. Bacon will kill you. Bu...         0.56   \n",
       "3    vld87y             A guy rubs a lamp. And the genie comes         0.31   \n",
       "4    wvyhz3  A guy runs into a bar. He goes up to the barte...         0.71   \n",
       "\n",
       "        type humor           topic joke  score_raw  ratio_0_to_10  \\\n",
       "0  One-liner Humor        Animals Jokes    10189.0           0.88   \n",
       "1        Pun Humor  Relationships Jokes    11396.0           0.93   \n",
       "2  One-liner Humor        Animals Jokes     5693.0           0.95   \n",
       "3  One-liner Humor     Technology Jokes     1698.0           0.97   \n",
       "4  One-liner Humor      Religious Jokes    11080.0           0.93   \n",
       "\n",
       "   ratio_-5_to_5  ncom_raw  \n",
       "0            3.8     211.0  \n",
       "1            4.3     475.0  \n",
       "2            4.5     131.0  \n",
       "3            4.7      34.0  \n",
       "4            4.3     206.0  "
      ]
     },
     "execution_count": 3,
     "metadata": {},
     "output_type": "execute_result"
    }
   ],
   "source": [
    "df.head()\n"
   ]
  },
  {
   "cell_type": "code",
   "execution_count": 7,
   "metadata": {},
   "outputs": [
    {
     "data": {
      "text/plain": [
       "'dhdbdh%%%%&&vm@@'"
      ]
     },
     "execution_count": 7,
     "metadata": {},
     "output_type": "execute_result"
    }
   ],
   "source": [
    "cleaned_text\n"
   ]
  },
  {
   "cell_type": "code",
   "execution_count": null,
   "metadata": {},
   "outputs": [],
   "source": []
  }
 ],
 "metadata": {
  "kernelspec": {
   "display_name": "Python 3",
   "language": "python",
   "name": "python3"
  },
  "language_info": {
   "codemirror_mode": {
    "name": "ipython",
    "version": 3
   },
   "file_extension": ".py",
   "mimetype": "text/x-python",
   "name": "python",
   "nbconvert_exporter": "python",
   "pygments_lexer": "ipython3",
   "version": "3.10.6"
  },
  "orig_nbformat": 4
 },
 "nbformat": 4,
 "nbformat_minor": 2
}
